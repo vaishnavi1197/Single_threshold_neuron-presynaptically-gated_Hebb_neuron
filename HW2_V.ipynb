{
  "nbformat": 4,
  "nbformat_minor": 0,
  "metadata": {
    "colab": {
      "name": "temp0.ipynb",
      "provenance": [],
      "collapsed_sections": []
    },
    "kernelspec": {
      "name": "python3",
      "display_name": "Python 3"
    },
    "language_info": {
      "name": "python"
    }
  },
  "cells": [
    {
      "cell_type": "code",
      "metadata": {
        "id": "Shf1mbGQY9HW"
      },
      "source": [
        "import numpy as np\n",
        "import pandas as pd\n",
        "import seaborn as sns\n",
        "import matplotlib.pyplot as plt\n",
        "import random \n"
      ],
      "execution_count": 431,
      "outputs": []
    },
    {
      "cell_type": "code",
      "metadata": {
        "id": "Xcb25GhSAJ0Y"
      },
      "source": [
        "data_i = pd.ExcelFile('temp.xlsx')\n"
      ],
      "execution_count": 432,
      "outputs": []
    },
    {
      "cell_type": "code",
      "metadata": {
        "id": "NTF2q03TgWZh"
      },
      "source": [
        "data_img = pd.read_excel(data_i) \n"
      ],
      "execution_count": 433,
      "outputs": []
    },
    {
      "cell_type": "code",
      "metadata": {
        "colab": {
          "base_uri": "https://localhost:8080/"
        },
        "id": "wK1tQ1aLmv-L",
        "outputId": "ffb92579-cbd4-4072-b089-c93d7f0d4059"
      },
      "source": [
        "#print((data)) \n",
        "data_img.shape\n",
        "#data3.shape\n",
        "#data.iloc[0]\n",
        "#data_img[500:1000]"
      ],
      "execution_count": 434,
      "outputs": [
        {
          "output_type": "execute_result",
          "data": {
            "text/plain": [
              "(5000, 785)"
            ]
          },
          "metadata": {},
          "execution_count": 434
        }
      ]
    },
    {
      "cell_type": "markdown",
      "metadata": {
        "id": "gqbHHfCxGzeh"
      },
      "source": [
        "Separat Numbers"
      ]
    },
    {
      "cell_type": "code",
      "metadata": {
        "id": "YwXOAsv5JpaC"
      },
      "source": [
        "f0 = []\n",
        "f1 = []\n",
        "f2 = []\n",
        "f3 = []\n",
        "f4 = []\n",
        "f5 = []\n",
        "f6 = []\n",
        "f7 = []\n",
        "f8 = []\n",
        "f9 = []\n",
        "\n",
        "for i in range(5000):\n",
        "  j = (data_img.iloc[i][1:785])\n",
        "  #print(j)\n",
        "  b=np.array(j).reshape(28,28).T\n",
        "  if i <500:\n",
        "    f0.append(b)\n",
        "  elif 499<i<1000:\n",
        "    f1.append(b)\n",
        "  elif 999<i<1500:\n",
        "    f2.append(b)\n",
        "  elif 1499<i<2000:\n",
        "    f3.append(b)\n",
        "  elif 1999<i<2500:\n",
        "    f4.append(b)\n",
        "  elif 2499<i<3000:\n",
        "    f5.append(b)\n",
        "  elif 2999<i<3500:\n",
        "    f6.append(b)\n",
        "  elif 3499<i<4000:\n",
        "    f7.append(b)\n",
        "  elif 3999<i<4500:\n",
        "    f8.append(b)\n",
        "  elif 4499<i<5000:\n",
        "    f9.append(b)\n",
        "\n",
        "# #print(len(f0))\n",
        "# #print(len(f1))\n",
        "# #print(len(f2))\n",
        "# #print(len(f3))\n",
        "# #print(len(f4))\n",
        "# #print(len(f5))\n",
        "# #print(len(f6))\n",
        "# #print(len(f7))\n",
        "# #print(len(f8))\n",
        "# #print(len(f9))\n",
        "\n",
        "#for i in range(10):\n",
        "  #ax = sns.heatmap(f2[i])\n",
        "  #plt.figure()"
      ],
      "execution_count": 435,
      "outputs": []
    },
    {
      "cell_type": "markdown",
      "metadata": {
        "id": "XqElCiEUGnt_"
      },
      "source": [
        "Shuffle "
      ]
    },
    {
      "cell_type": "code",
      "metadata": {
        "id": "hySgoT9bkMs9"
      },
      "source": [
        "data0 = data_img[0:400]\n",
        "data2 = data_img[400:500]\n",
        "data1 = data_img[500:900]\n",
        "data3 = data_img[900:1000]\n",
        "data4 = data_img[3500:3600]\n",
        "data5 = data_img[4500:4600]\n",
        "#print(len(data1))\n",
        "data_training = data0.append(data1)\n",
        "data_testing = data2.append(data3)\n",
        "data_challenge = data4.append(data5)\n",
        "#print(data_testing)\n",
        "data_training = data_training.sample(frac=1)\n",
        "data_testing = data_testing.sample(frac=1)\n",
        "data_challenge = data_challenge.sample(frac=1)\n",
        "#print(data_testing.drop(columns=['L']))\n",
        "#print(len(data_testing))\n",
        "#print(data4)\n",
        "#print(data_training.iloc[2])\n",
        "\n"
      ],
      "execution_count": 436,
      "outputs": []
    },
    {
      "cell_type": "markdown",
      "metadata": {
        "id": "XkiyZFJoK__F"
      },
      "source": [
        "Teaching Input"
      ]
    },
    {
      "cell_type": "code",
      "metadata": {
        "colab": {
          "base_uri": "https://localhost:8080/"
        },
        "id": "MjLuBc-VLCkW",
        "outputId": "1b2fe4f7-8b14-49e3-a0ae-811544870789"
      },
      "source": [
        "z = np.array(data_training.iloc[:,0])\n",
        "#print(z)\n",
        "#print('z:',z[0])\n",
        "#print(data_training)\n",
        "data_training.iloc[0,:1]"
      ],
      "execution_count": 437,
      "outputs": [
        {
          "output_type": "execute_result",
          "data": {
            "text/plain": [
              "L    1.0\n",
              "Name: 626, dtype: float64"
            ]
          },
          "metadata": {},
          "execution_count": 437
        }
      ]
    },
    {
      "cell_type": "markdown",
      "metadata": {
        "id": "noSZm6yrOQbS"
      },
      "source": [
        "Initial Weights"
      ]
    },
    {
      "cell_type": "markdown",
      "metadata": {
        "id": "RNb9HDy4JDD0"
      },
      "source": [
        "Train"
      ]
    },
    {
      "cell_type": "code",
      "metadata": {
        "id": "DrFwYHwSPIey"
      },
      "source": [
        "w= np.random.uniform(0,0.5,784)\n",
        "w_copy = w\n",
        "\n",
        "s_training = [0 for f in range(800)]\n",
        "y_training = [0 for f in range(800)]\n",
        "s_testing = [0 for f in range(200)]\n",
        "y_testing = [0 for f in range(200)]\n",
        "s_challenge = [0 for f in range(200)]\n",
        "y_challenge = [0 for f in range(200)]\n",
        "n = 0.01 #LEARNING RATE\n",
        "\n",
        "for j in range (41): #J IS EPOCH \n",
        "  for i in range(800):\n",
        "      s_training[i] = np.dot(data_training.iloc[i,1:],w)\n",
        "      y_training[i] = z[i]\n",
        "      #print(i)\n",
        "      w = w + n*y_training[i]*(data_training.iloc[i,1:] - w)\n",
        "      #print(w)\n",
        "\n",
        "\n"
      ],
      "execution_count": 438,
      "outputs": []
    },
    {
      "cell_type": "markdown",
      "metadata": {
        "id": "qdrSmEpNc7wp"
      },
      "source": [
        "Test"
      ]
    },
    {
      "cell_type": "code",
      "metadata": {
        "id": "DS5DFrwUc_KR",
        "colab": {
          "base_uri": "https://localhost:8080/"
        },
        "outputId": "cbe10ea4-aaab-4b71-e1b0-098ae859a976"
      },
      "source": [
        "y_all = []\n",
        "for j in range(40): #THETA\n",
        "  y_testing=np.zeros(200)\n",
        "  for i in range(200):\n",
        "      s_testing[i] = np.dot(data_testing.iloc[i,1:],w)\n",
        "      #print(s_testing[i])\n",
        "      if s_testing[i] > j:\n",
        "        y_testing[i] = 1\n",
        "      else:\n",
        "        y_testing[i] = 0\n",
        "\n",
        "  y_all.append(y_testing)\n",
        "\n",
        "# for i in range(40):\n",
        "#   print(np.array(data_testing.iloc[:,0]))\n",
        "#   print(y_all[i])\n",
        "#   print(\"==========================================================================================\")\n",
        "# print(len(y_testing))  \n",
        "\n",
        "print(len(y_all))\n",
        "\n",
        "\n"
      ],
      "execution_count": 439,
      "outputs": [
        {
          "output_type": "stream",
          "name": "stdout",
          "text": [
            "40\n"
          ]
        }
      ]
    },
    {
      "cell_type": "markdown",
      "metadata": {
        "id": "2Wwn4GWB3MKp"
      },
      "source": [
        "Evaluation"
      ]
    },
    {
      "cell_type": "code",
      "metadata": {
        "id": "NmPfm7_Z3OBL"
      },
      "source": [
        "tn = np.zeros(40)\n",
        "tp = np.zeros(40)\n",
        "fn = np.zeros(40)\n",
        "fp = np.zeros(40)\n",
        "p = np.zeros(40)\n",
        "r = np.zeros(40)\n",
        "f1 = np.zeros(40)\n",
        "\n",
        "for i in range(40):\n",
        "  tn[i], fp[i], fn[i], tp[i] = confusion_matrix((data_testing.iloc[:,0]),y_all[i]).ravel()\n",
        "  print(\"TN:\",tn[i],\"FP\",fp[i],\"FN:\",fn[i],\"TP:\",tp[i])\n",
        "  p[i] = (tp[i]/(tp[i]+fp[i]))\n",
        "  r[i] = (tp[i]/(tp[i]+fn[i]))\n",
        "  f1[i] = 2*((p[i]*r[i])/(p[i]+r[i]))\n",
        "  print(\"p=\",p[i],\"r=\",r[i],\"f1=\",f1[i])"
      ],
      "execution_count": null,
      "outputs": []
    },
    {
      "cell_type": "code",
      "metadata": {
        "colab": {
          "base_uri": "https://localhost:8080/",
          "height": 495
        },
        "id": "W-YobVrDWTi7",
        "outputId": "55d6adde-a281-4ac6-b665-ba1373ccdcd6"
      },
      "source": [
        "plt.figure(figsize=(15,6))\n",
        "plt.xlabel(\"False Positives\")\n",
        "plt.ylabel(\"True Positives\")\n",
        "plt.xticks(range(0,101,5))\n",
        "plt.yticks(range(0,101,5))\n",
        "plt.plot(fp,tp,linestyle='dashed', marker='o', markersize=5)\n",
        "print(fp)\n",
        "print(tp)\n",
        "# [18,79]"
      ],
      "execution_count": 476,
      "outputs": [
        {
          "output_type": "stream",
          "name": "stdout",
          "text": [
            "[100. 100. 100. 100. 100. 100. 100.  99.  98.  96.  94.  91.  90.  85.\n",
            "  79.  67.  58.  52.  47.  40.  35.  27.  22.  12.   9.   8.   5.   4.\n",
            "   4.   4.   3.   1.   1.   1.   1.   1.   0.   0.   0.   0.]\n",
            "[100. 100. 100. 100. 100. 100. 100. 100. 100. 100. 100. 100. 100.  99.\n",
            "  98.  98.  96.  95.  94.  90.  82.  80.  78.  74.  69.  67.  58.  54.\n",
            "  48.  44.  38.  30.  27.  23.  18.  14.  10.   7.   4.   2.]\n"
          ]
        },
        {
          "output_type": "display_data",
          "data": {
            "image/png": "[encoded data removed]",
            "text/plain": [
              "<Figure size 1080x432 with 1 Axes>"
            ]
          },
          "metadata": {
            "needs_background": "light"
          }
        }
      ]
    },
    {
      "cell_type": "code",
      "metadata": {
        "colab": {
          "base_uri": "https://localhost:8080/",
          "height": 279
        },
        "id": "9VRt1GliTCSQ",
        "outputId": "ca8ba965-1cc4-4031-98f3-194936ec719e"
      },
      "source": [
        "plt.plot(range(40),p,label='Precision')\n",
        "plt.plot(range(40),r,label='Recall')\n",
        "plt.plot(range(40),f1,label='F1 Score')\n",
        "plt.xlabel('Range of Theta (0 to 40)')\n",
        "plt.ylabel('Precision Recall F1')\n",
        "plt.legend()\n",
        "plt.show()"
      ],
      "execution_count": 499,
      "outputs": [
        {
          "output_type": "display_data",
          "data": {
            "image/png": "[encoded data removed]",
            "text/plain": [
              "<Figure size 432x288 with 1 Axes>"
            ]
          },
          "metadata": {
            "needs_background": "light"
          }
        }
      ]
    },
    {
      "cell_type": "markdown",
      "metadata": {
        "id": "fiTutPzc3AD0"
      },
      "source": [
        "Heat Map"
      ]
    },
    {
      "cell_type": "code",
      "metadata": {
        "colab": {
          "base_uri": "https://localhost:8080/",
          "height": 265
        },
        "id": "NRf08uwXg6CE",
        "outputId": "b316c11c-7f97-4e79-c064-16e016196ff5"
      },
      "source": [
        "from sklearn.metrics import plot_confusion_matrix\n",
        "fig, (ax1, ax2) = plt.subplots(1,2)\n",
        "bx=sns.heatmap(w_copy.reshape(28,28).T,ax=ax1)\n",
        "a =  np.array(w).reshape(28,28).T\n",
        "cx = sns.heatmap(a,ax=ax2)\n",
        "plt.show()\n",
        "#print(a.shape)"
      ],
      "execution_count": 468,
      "outputs": [
        {
          "output_type": "display_data",
          "data": {
            "image/png": "[encoded data removed]",
            "text/plain": [
              "<Figure size 432x288 with 4 Axes>"
            ]
          },
          "metadata": {
            "needs_background": "light"
          }
        }
      ]
    },
    {
      "cell_type": "markdown",
      "metadata": {
        "id": "e6Mf8AzWxo8I"
      },
      "source": [
        "Challenge Set"
      ]
    },
    {
      "cell_type": "code",
      "metadata": {
        "id": "CBv2hsK_4eA7"
      },
      "source": [
        "y_all_C = []\n",
        "\n",
        "y_challenge=np.zeros(200)\n",
        "for i in range(200):\n",
        "    s_challenge[i] = np.dot(data_challenge.iloc[i,1:],w)\n",
        "    #print(s_testing[i])\n",
        "    if s_challenge[i] > 23:\n",
        "      y_challenge[i] = 1\n",
        "    else:\n",
        "      y_challenge[i] = 0\n",
        "\n",
        "y_all_C = (y_challenge)"
      ],
      "execution_count": 472,
      "outputs": []
    },
    {
      "cell_type": "code",
      "metadata": {
        "colab": {
          "base_uri": "https://localhost:8080/"
        },
        "id": "_gc45ic15cwI",
        "outputId": "1c8c9c72-7cb8-4a80-cfec-e6d3dcfbb684"
      },
      "source": [
        "x = (data_challenge.iloc[:,0])\n",
        "\n",
        "\n",
        "sevens_ones = np.where((x ==7)& y_all_C == 1 )\n",
        "sevens_ones = len(np.array(sevens_ones)[0])\n",
        "nine_ones = np.where((x==9) & (y_all_C == 1 ))\n",
        "nine_ones = len(nine_ones[0])\n",
        "sevens_zeros = np.where((x==7) & (y_all_C == 0 ))\n",
        "sevens_zeros = len(sevens_zeros[0])\n",
        "nine_zeros = np.where((x==9) & (y_all_C == 0 ))\n",
        "nine_zeros = len(nine_zeros[0])\n",
        "\n",
        "print(sevens_ones)\n",
        "print()\n",
        "print((sevens_zeros))\n",
        "print()\n",
        "print((nine_ones))\n",
        "print()\n",
        "print((nine_zeros))\n"
      ],
      "execution_count": 473,
      "outputs": [
        {
          "output_type": "stream",
          "name": "stdout",
          "text": [
            "32\n",
            "\n",
            "68\n",
            "\n",
            "29\n",
            "\n",
            "71\n"
          ]
        }
      ]
    },
    {
      "cell_type": "code",
      "metadata": {
        "colab": {
          "base_uri": "https://localhost:8080/",
          "height": 542
        },
        "id": "rgXZ8qPc9P6l",
        "outputId": "e19c150c-c058-4457-f1a3-ac069437664c"
      },
      "source": [
        "import plotly.graph_objects as go\n",
        "\n",
        "fig = go.Figure(data=[go.Table(header=dict(values=['', 'Original 7', 'Original 9']),\n",
        "                 cells=dict(values=[['Detected 1','Detected 0'], [sevens_ones,sevens_zeros], [nine_ones,nine_zeros]]))\n",
        "                     ])\n",
        "fig.show()"
      ],
      "execution_count": 474,
      "outputs": [
        {
          "output_type": "display_data",
          "data": {
            "text/html": [
              "<html>\n",
              "<head><meta charset=\"utf-8\" /></head>\n",
              "<body>\n",
              "    <div>\n",
              "            <script src=\"https://cdnjs.cloudflare.com/ajax/libs/mathjax/2.7.5/MathJax.js?config=TeX-AMS-MML_SVG\"></script><script type=\"text/javascript\">if (window.MathJax) {MathJax.Hub.Config({SVG: {font: \"STIX-Web\"}});}</script>\n",
              "                <script type=\"text/javascript\">window.PlotlyConfig = {MathJaxConfig: 'local'};</script>\n",
              "        <script src=\"https://cdn.plot.ly/plotly-latest.min.js\"></script>    \n",
              "            <div id=\"47a42a95-94e5-4e5c-975b-b6623097a8ce\" class=\"plotly-graph-div\" style=\"height:525px; width:100%;\"></div>\n",
              "            <script type=\"text/javascript\">\n",
              "                \n",
              "                    window.PLOTLYENV=window.PLOTLYENV || {};\n",
              "                    \n",
              "                if (document.getElementById(\"47a42a95-94e5-4e5c-975b-b6623097a8ce\")) {\n",
              "                    Plotly.newPlot(\n",
              "                        '47a42a95-94e5-4e5c-975b-b6623097a8ce',\n",
              "                        [{\"cells\": {\"values\": [[\"Detected 1\", \"Detected 0\"], [32, 68], [29, 71]]}, \"header\": {\"values\": [\"\", \"Original 7\", \"Original 9\"]}, \"type\": \"table\"}],\n",
              "                        {\"template\": {\"data\": {\"bar\": [{\"error_x\": {\"color\": \"#2a3f5f\"}, \"error_y\": {\"color\": \"#2a3f5f\"}, \"marker\": {\"line\": {\"color\": \"#E5ECF6\", \"width\": 0.5}}, \"type\": \"bar\"}], \"barpolar\": [{\"marker\": {\"line\": {\"color\": \"#E5ECF6\", \"width\": 0.5}}, \"type\": \"barpolar\"}], \"carpet\": [{\"aaxis\": {\"endlinecolor\": \"#2a3f5f\", \"gridcolor\": \"white\", \"linecolor\": \"white\", \"minorgridcolor\": \"white\", \"startlinecolor\": \"#2a3f5f\"}, \"baxis\": {\"endlinecolor\": \"#2a3f5f\", \"gridcolor\": \"white\", \"linecolor\": \"white\", \"minorgridcolor\": \"white\", \"startlinecolor\": \"#2a3f5f\"}, \"type\": \"carpet\"}], \"choropleth\": [{\"colorbar\": {\"outlinewidth\": 0, \"ticks\": \"\"}, \"type\": \"choropleth\"}], \"contour\": [{\"colorbar\": {\"outlinewidth\": 0, \"ticks\": \"\"}, \"colorscale\": [[0.0, \"#0d0887\"], [0.1111111111111111, \"#46039f\"], [0.2222222222222222, \"#7201a8\"], [0.3333333333333333, \"#9c179e\"], [0.4444444444444444, \"#bd3786\"], [0.5555555555555556, \"#d8576b\"], [0.6666666666666666, \"#ed7953\"], [0.7777777777777778, \"#fb9f3a\"], [0.8888888888888888, \"#fdca26\"], [1.0, \"#f0f921\"]], \"type\": \"contour\"}], \"contourcarpet\": [{\"colorbar\": {\"outlinewidth\": 0, \"ticks\": \"\"}, \"type\": \"contourcarpet\"}], \"heatmap\": [{\"colorbar\": {\"outlinewidth\": 0, \"ticks\": \"\"}, \"colorscale\": [[0.0, \"#0d0887\"], [0.1111111111111111, \"#46039f\"], [0.2222222222222222, \"#7201a8\"], [0.3333333333333333, \"#9c179e\"], [0.4444444444444444, \"#bd3786\"], [0.5555555555555556, \"#d8576b\"], [0.6666666666666666, \"#ed7953\"], [0.7777777777777778, \"#fb9f3a\"], [0.8888888888888888, \"#fdca26\"], [1.0, \"#f0f921\"]], \"type\": \"heatmap\"}], \"heatmapgl\": [{\"colorbar\": {\"outlinewidth\": 0, \"ticks\": \"\"}, \"colorscale\": [[0.0, \"#0d0887\"], [0.1111111111111111, \"#46039f\"], [0.2222222222222222, \"#7201a8\"], [0.3333333333333333, \"#9c179e\"], [0.4444444444444444, \"#bd3786\"], [0.5555555555555556, \"#d8576b\"], [0.6666666666666666, \"#ed7953\"], [0.7777777777777778, \"#fb9f3a\"], [0.8888888888888888, \"#fdca26\"], [1.0, \"#f0f921\"]], \"type\": \"heatmapgl\"}], \"histogram\": [{\"marker\": {\"colorbar\": {\"outlinewidth\": 0, \"ticks\": \"\"}}, \"type\": \"histogram\"}], \"histogram2d\": [{\"colorbar\": {\"outlinewidth\": 0, \"ticks\": \"\"}, \"colorscale\": [[0.0, \"#0d0887\"], [0.1111111111111111, \"#46039f\"], [0.2222222222222222, \"#7201a8\"], [0.3333333333333333, \"#9c179e\"], [0.4444444444444444, \"#bd3786\"], [0.5555555555555556, \"#d8576b\"], [0.6666666666666666, \"#ed7953\"], [0.7777777777777778, \"#fb9f3a\"], [0.8888888888888888, \"#fdca26\"], [1.0, \"#f0f921\"]], \"type\": \"histogram2d\"}], \"histogram2dcontour\": [{\"colorbar\": {\"outlinewidth\": 0, \"ticks\": \"\"}, \"colorscale\": [[0.0, \"#0d0887\"], [0.1111111111111111, \"#46039f\"], [0.2222222222222222, \"#7201a8\"], [0.3333333333333333, \"#9c179e\"], [0.4444444444444444, \"#bd3786\"], [0.5555555555555556, \"#d8576b\"], [0.6666666666666666, \"#ed7953\"], [0.7777777777777778, \"#fb9f3a\"], [0.8888888888888888, \"#fdca26\"], [1.0, \"#f0f921\"]], \"type\": \"histogram2dcontour\"}], \"mesh3d\": [{\"colorbar\": {\"outlinewidth\": 0, \"ticks\": \"\"}, \"type\": \"mesh3d\"}], \"parcoords\": [{\"line\": {\"colorbar\": {\"outlinewidth\": 0, \"ticks\": \"\"}}, \"type\": \"parcoords\"}], \"pie\": [{\"automargin\": true, \"type\": \"pie\"}], \"scatter\": [{\"marker\": {\"colorbar\": {\"outlinewidth\": 0, \"ticks\": \"\"}}, \"type\": \"scatter\"}], \"scatter3d\": [{\"line\": {\"colorbar\": {\"outlinewidth\": 0, \"ticks\": \"\"}}, \"marker\": {\"colorbar\": {\"outlinewidth\": 0, \"ticks\": \"\"}}, \"type\": \"scatter3d\"}], \"scattercarpet\": [{\"marker\": {\"colorbar\": {\"outlinewidth\": 0, \"ticks\": \"\"}}, \"type\": \"scattercarpet\"}], \"scattergeo\": [{\"marker\": {\"colorbar\": {\"outlinewidth\": 0, \"ticks\": \"\"}}, \"type\": \"scattergeo\"}], \"scattergl\": [{\"marker\": {\"colorbar\": {\"outlinewidth\": 0, \"ticks\": \"\"}}, \"type\": \"scattergl\"}], \"scattermapbox\": [{\"marker\": {\"colorbar\": {\"outlinewidth\": 0, \"ticks\": \"\"}}, \"type\": \"scattermapbox\"}], \"scatterpolar\": [{\"marker\": {\"colorbar\": {\"outlinewidth\": 0, \"ticks\": \"\"}}, \"type\": \"scatterpolar\"}], \"scatterpolargl\": [{\"marker\": {\"colorbar\": {\"outlinewidth\": 0, \"ticks\": \"\"}}, \"type\": \"scatterpolargl\"}], \"scatterternary\": [{\"marker\": {\"colorbar\": {\"outlinewidth\": 0, \"ticks\": \"\"}}, \"type\": \"scatterternary\"}], \"surface\": [{\"colorbar\": {\"outlinewidth\": 0, \"ticks\": \"\"}, \"colorscale\": [[0.0, \"#0d0887\"], [0.1111111111111111, \"#46039f\"], [0.2222222222222222, \"#7201a8\"], [0.3333333333333333, \"#9c179e\"], [0.4444444444444444, \"#bd3786\"], [0.5555555555555556, \"#d8576b\"], [0.6666666666666666, \"#ed7953\"], [0.7777777777777778, \"#fb9f3a\"], [0.8888888888888888, \"#fdca26\"], [1.0, \"#f0f921\"]], \"type\": \"surface\"}], \"table\": [{\"cells\": {\"fill\": {\"color\": \"#EBF0F8\"}, \"line\": {\"color\": \"white\"}}, \"header\": {\"fill\": {\"color\": \"#C8D4E3\"}, \"line\": {\"color\": \"white\"}}, \"type\": \"table\"}]}, \"layout\": {\"annotationdefaults\": {\"arrowcolor\": \"#2a3f5f\", \"arrowhead\": 0, \"arrowwidth\": 1}, \"coloraxis\": {\"colorbar\": {\"outlinewidth\": 0, \"ticks\": \"\"}}, \"colorscale\": {\"diverging\": [[0, \"#8e0152\"], [0.1, \"#c51b7d\"], [0.2, \"#de77ae\"], [0.3, \"#f1b6da\"], [0.4, \"#fde0ef\"], [0.5, \"#f7f7f7\"], [0.6, \"#e6f5d0\"], [0.7, \"#b8e186\"], [0.8, \"#7fbc41\"], [0.9, \"#4d9221\"], [1, \"#276419\"]], \"sequential\": [[0.0, \"#0d0887\"], [0.1111111111111111, \"#46039f\"], [0.2222222222222222, \"#7201a8\"], [0.3333333333333333, \"#9c179e\"], [0.4444444444444444, \"#bd3786\"], [0.5555555555555556, \"#d8576b\"], [0.6666666666666666, \"#ed7953\"], [0.7777777777777778, \"#fb9f3a\"], [0.8888888888888888, \"#fdca26\"], [1.0, \"#f0f921\"]], \"sequentialminus\": [[0.0, \"#0d0887\"], [0.1111111111111111, \"#46039f\"], [0.2222222222222222, \"#7201a8\"], [0.3333333333333333, \"#9c179e\"], [0.4444444444444444, \"#bd3786\"], [0.5555555555555556, \"#d8576b\"], [0.6666666666666666, \"#ed7953\"], [0.7777777777777778, \"#fb9f3a\"], [0.8888888888888888, \"#fdca26\"], [1.0, \"#f0f921\"]]}, \"colorway\": [\"#636efa\", \"#EF553B\", \"#00cc96\", \"#ab63fa\", \"#FFA15A\", \"#19d3f3\", \"#FF6692\", \"#B6E880\", \"#FF97FF\", \"#FECB52\"], \"font\": {\"color\": \"#2a3f5f\"}, \"geo\": {\"bgcolor\": \"white\", \"lakecolor\": \"white\", \"landcolor\": \"#E5ECF6\", \"showlakes\": true, \"showland\": true, \"subunitcolor\": \"white\"}, \"hoverlabel\": {\"align\": \"left\"}, \"hovermode\": \"closest\", \"mapbox\": {\"style\": \"light\"}, \"paper_bgcolor\": \"white\", \"plot_bgcolor\": \"#E5ECF6\", \"polar\": {\"angularaxis\": {\"gridcolor\": \"white\", \"linecolor\": \"white\", \"ticks\": \"\"}, \"bgcolor\": \"#E5ECF6\", \"radialaxis\": {\"gridcolor\": \"white\", \"linecolor\": \"white\", \"ticks\": \"\"}}, \"scene\": {\"xaxis\": {\"backgroundcolor\": \"#E5ECF6\", \"gridcolor\": \"white\", \"gridwidth\": 2, \"linecolor\": \"white\", \"showbackground\": true, \"ticks\": \"\", \"zerolinecolor\": \"white\"}, \"yaxis\": {\"backgroundcolor\": \"#E5ECF6\", \"gridcolor\": \"white\", \"gridwidth\": 2, \"linecolor\": \"white\", \"showbackground\": true, \"ticks\": \"\", \"zerolinecolor\": \"white\"}, \"zaxis\": {\"backgroundcolor\": \"#E5ECF6\", \"gridcolor\": \"white\", \"gridwidth\": 2, \"linecolor\": \"white\", \"showbackground\": true, \"ticks\": \"\", \"zerolinecolor\": \"white\"}}, \"shapedefaults\": {\"line\": {\"color\": \"#2a3f5f\"}}, \"ternary\": {\"aaxis\": {\"gridcolor\": \"white\", \"linecolor\": \"white\", \"ticks\": \"\"}, \"baxis\": {\"gridcolor\": \"white\", \"linecolor\": \"white\", \"ticks\": \"\"}, \"bgcolor\": \"#E5ECF6\", \"caxis\": {\"gridcolor\": \"white\", \"linecolor\": \"white\", \"ticks\": \"\"}}, \"title\": {\"x\": 0.05}, \"xaxis\": {\"automargin\": true, \"gridcolor\": \"white\", \"linecolor\": \"white\", \"ticks\": \"\", \"title\": {\"standoff\": 15}, \"zerolinecolor\": \"white\", \"zerolinewidth\": 2}, \"yaxis\": {\"automargin\": true, \"gridcolor\": \"white\", \"linecolor\": \"white\", \"ticks\": \"\", \"title\": {\"standoff\": 15}, \"zerolinecolor\": \"white\", \"zerolinewidth\": 2}}}},\n",
              "                        {\"responsive\": true}\n",
              "                    ).then(function(){\n",
              "                            \n",
              "var gd = document.getElementById('47a42a95-94e5-4e5c-975b-b6623097a8ce');\n",
              "var x = new MutationObserver(function (mutations, observer) {{\n",
              "        var display = window.getComputedStyle(gd).display;\n",
              "        if (!display || display === 'none') {{\n",
              "            console.log([gd, 'removed!']);\n",
              "            Plotly.purge(gd);\n",
              "            observer.disconnect();\n",
              "        }}\n",
              "}});\n",
              "\n",
              "// Listen for the removal of the full notebook cells\n",
              "var notebookContainer = gd.closest('#notebook-container');\n",
              "if (notebookContainer) {{\n",
              "    x.observe(notebookContainer, {childList: true});\n",
              "}}\n",
              "\n",
              "// Listen for the clearing of the current output cell\n",
              "var outputEl = gd.closest('.output');\n",
              "if (outputEl) {{\n",
              "    x.observe(outputEl, {childList: true});\n",
              "}}\n",
              "\n",
              "                        })\n",
              "                };\n",
              "                \n",
              "            </script>\n",
              "        </div>\n",
              "</body>\n",
              "</html>"
            ]
          },
          "metadata": {}
        }
      ]
    },
    {
      "cell_type": "markdown",
      "metadata": {
        "id": "2by7-AGvFqVN"
      },
      "source": [
        "Question 2"
      ]
    },
    {
      "cell_type": "code",
      "metadata": {
        "id": "JAO2YEf8FpgJ"
      },
      "source": [
        "w2= np.random.uniform(0,0.5,784)\n",
        "w_copy2 = w2\n",
        "z2 = np.array(data_training.iloc[:,0])\n",
        "\n",
        "s_training2 = [0 for f in range(800)]\n",
        "y_training2 = [0 for f in range(800)]\n",
        "s_testing2 = [0 for f in range(200)]\n",
        "y_testing2 = [0 for f in range(200)]\n",
        "s_challenge2 = [0 for f in range(200)]\n",
        "y_challenge2 = [0 for f in range(200)]\n",
        "n = 0.01\n",
        "\n",
        "for j in range (41):\n",
        "  for i in range(800):\n",
        "      s_training2[i] = np.dot(data_training.iloc[i,1:],w2)\n",
        "      y_training2[i] = z2[i]\n",
        "      #print(i)\n",
        "      w2 = w2 + n*(data_training.iloc[i,1:])*(y_training2[i] - w2)\n",
        "      #print(w)"
      ],
      "execution_count": 489,
      "outputs": []
    },
    {
      "cell_type": "code",
      "metadata": {
        "id": "kL0CBbS9GkWc"
      },
      "source": [
        "y_all2 = []\n",
        "for j in range(40):\n",
        "  y_testing2=np.zeros(200)\n",
        "  for i in range(200):\n",
        "      s_testing2[i] = np.dot(data_testing.iloc[i,1:],w2)\n",
        "      #print(s_testing[i])\n",
        "      if s_testing2[i] > j:\n",
        "        y_testing2[i] = 1\n",
        "      else:\n",
        "        y_testing2[i] = 0\n",
        "\n",
        "  y_all2.append(y_testing2)\n"
      ],
      "execution_count": 490,
      "outputs": []
    },
    {
      "cell_type": "code",
      "metadata": {
        "id": "_bZAjy-zGvR-"
      },
      "source": [
        "tn2 = np.zeros(40)\n",
        "tp2 = np.zeros(40)\n",
        "fn2 = np.zeros(40)\n",
        "fp2 = np.zeros(40)\n",
        "p2 = np.zeros(40)\n",
        "r2 = np.zeros(40)\n",
        "f12 = np.zeros(40)\n",
        "\n",
        "for i in range(40):\n",
        "  tn2[i], fp2[i], fn2[i], tp2[i] = confusion_matrix((data_testing.iloc[:,0]),y_all2[i]).ravel()\n",
        "  print(\"TN:\",tn2[i],\"FP\",fp2[i],\"FN:\",fn2[i],\"TP:\",tp2[i])\n",
        "  p2[i] = (tp2[i]/(tp2[i]+fp2[i]))\n",
        "  r2[i] = (tp2[i]/(tp2[i]+fn2[i]))\n",
        "  f12[i] = 2*((p2[i]*r2[i])/(p2[i]+r2[i]))\n",
        "  print(\"p=\",p2[i],\"r=\",r2[i],\"f1=\",f12[i])"
      ],
      "execution_count": null,
      "outputs": []
    },
    {
      "cell_type": "code",
      "metadata": {
        "colab": {
          "base_uri": "https://localhost:8080/",
          "height": 279
        },
        "id": "vb1Un_F6HGYT",
        "outputId": "cf9f6079-14a0-4eff-f8cb-7fd298becdc7"
      },
      "source": [
        "plt.plot(range(40),p2,label='Precision')\n",
        "plt.plot(range(40),r2,label='Recall')\n",
        "plt.plot(range(40),f12,label='F1 Score')\n",
        "plt.xlabel('Range of Theta (0 to 40)')\n",
        "plt.ylabel('Precision Recall F1')\n",
        "plt.legend()\n",
        "plt.show()"
      ],
      "execution_count": 497,
      "outputs": [
        {
          "output_type": "display_data",
          "data": {
            "image/png": "[encoded data removed]",
            "text/plain": [
              "<Figure size 432x288 with 1 Axes>"
            ]
          },
          "metadata": {
            "needs_background": "light"
          }
        }
      ]
    },
    {
      "cell_type": "code",
      "metadata": {
        "colab": {
          "base_uri": "https://localhost:8080/",
          "height": 495
        },
        "id": "xEg6zL-4HYKg",
        "outputId": "3111e010-c72d-4597-d7e1-c90c1e8c5f4c"
      },
      "source": [
        "plt.figure(figsize=(15,6))\n",
        "plt.xlabel(\"False Positives\")\n",
        "plt.ylabel(\"True Positives\")\n",
        "plt.xticks(range(0,101,5))\n",
        "plt.yticks(range(0,101,5))\n",
        "plt.plot(fp2,tp2,linestyle='dashed', marker='o', markersize=5)\n",
        "print(fp2)\n",
        "print(tp2)\n",
        "# [18,79]"
      ],
      "execution_count": 504,
      "outputs": [
        {
          "output_type": "stream",
          "name": "stdout",
          "text": [
            "[100. 100. 100. 100. 100. 100. 100. 100. 100. 100.  99.  97.  96.  91.\n",
            "  87.  84.  78.  74.  65.  59.  54.  49.  47.  42.  35.  32.  26.  21.\n",
            "  16.  13.   9.   8.   8.   6.   5.   4.   4.   4.   2.   2.]\n",
            "[100. 100. 100. 100. 100. 100. 100. 100. 100. 100. 100. 100. 100. 100.\n",
            " 100. 100. 100. 100. 100.  99.  97.  95.  93.  90.  88.  85.  82.  79.\n",
            "  74.  72.  64.  59.  57.  54.  48.  45.  39.  36.  31.  29.]\n"
          ]
        },
        {
          "output_type": "display_data",
          "data": {
            "image/png": "[encoded data removed]",
            "text/plain": [
              "<Figure size 1080x432 with 1 Axes>"
            ]
          },
          "metadata": {
            "needs_background": "light"
          }
        }
      ]
    },
    {
      "cell_type": "code",
      "metadata": {
        "colab": {
          "base_uri": "https://localhost:8080/",
          "height": 283
        },
        "id": "LxEJ9LF6JX2j",
        "outputId": "0b74c6d7-05c7-4977-e6ee-6677da950702"
      },
      "source": [
        "from sklearn.metrics import plot_confusion_matrix\n",
        "fig, (ax1, ax2) = plt.subplots(1,2)\n",
        "bx2=sns.heatmap(w_copy2.reshape(28,28).T,ax=ax1)\n",
        "a2 =  np.array(w2).reshape(28,28).T\n",
        "plt.figure()\n",
        "cx2 = sns.heatmap(a2,ax=ax2)"
      ],
      "execution_count": 495,
      "outputs": [
        {
          "output_type": "display_data",
          "data": {
            "image/png": "[encoded data removed]",
            "text/plain": [
              "<Figure size 432x288 with 4 Axes>"
            ]
          },
          "metadata": {
            "needs_background": "light"
          }
        },
        {
          "output_type": "display_data",
          "data": {
            "text/plain": [
              "<Figure size 432x288 with 0 Axes>"
            ]
          },
          "metadata": {}
        }
      ]
    },
    {
      "cell_type": "code",
      "metadata": {
        "id": "s0_NHVIfJeVR"
      },
      "source": [
        "y_all_C2 = []\n",
        "\n",
        "y_challenge2=np.zeros(200)\n",
        "for i in range(200):\n",
        "    s_challenge2[i] = np.dot(data_challenge.iloc[i,1:],w2)\n",
        "    #print(s_testing[i])\n",
        "    if s_challenge2[i] > 21:\n",
        "      y_challenge2[i] = 1\n",
        "    else:\n",
        "      y_challenge2[i] = 0\n",
        "\n",
        "y_all_C2 = (y_challenge2)"
      ],
      "execution_count": 453,
      "outputs": []
    },
    {
      "cell_type": "code",
      "metadata": {
        "id": "lONSDF0kJ1nX"
      },
      "source": [
        "x = (data_challenge.iloc[:,0])\n",
        "\n",
        "\n",
        "sevens_ones2 = np.where((x ==7)& y_all_C2 == 1 )\n",
        "sevens_ones2 = len(np.array(sevens_ones2)[0])\n",
        "nine_ones2 = np.where((x==9) & (y_all_C2 == 1 ))\n",
        "nine_ones2 = len(nine_ones2[0])\n",
        "sevens_zeros2 = np.where((x==7) & (y_all_C2 == 0 ))\n",
        "sevens_zeros2 = len(sevens_zeros2[0])\n",
        "nine_zeros2 = np.where((x==9) & (y_all_C2 == 0 ))\n",
        "nine_zeros2 = len(nine_zeros2[0])\n",
        "\n",
        "# print(sevens_ones2)\n",
        "# print()\n",
        "# print((sevens_zeros2))\n",
        "# print()\n",
        "# print((nine_ones2))\n",
        "# print()\n",
        "# print((nine_zeros2))"
      ],
      "execution_count": 454,
      "outputs": []
    },
    {
      "cell_type": "code",
      "metadata": {
        "colab": {
          "base_uri": "https://localhost:8080/",
          "height": 542
        },
        "id": "KwvYANK2J7px",
        "outputId": "110d3a11-8f10-4e43-b0b6-5469ad456794"
      },
      "source": [
        "import plotly.graph_objects as go\n",
        "\n",
        "fig = go.Figure(data=[go.Table(header=dict(values=['', 'Original 7', 'Original 9']),\n",
        "                 cells=dict(values=[['Detected 1','Detected 0'], [sevens_ones2,sevens_zeros2], [nine_ones2,nine_zeros2]]))\n",
        "                     ])\n",
        "fig.show()"
      ],
      "execution_count": 501,
      "outputs": [
        {
          "output_type": "display_data",
          "data": {
            "text/html": [
              "<html>\n",
              "<head><meta charset=\"utf-8\" /></head>\n",
              "<body>\n",
              "    <div>\n",
              "            <script src=\"https://cdnjs.cloudflare.com/ajax/libs/mathjax/2.7.5/MathJax.js?config=TeX-AMS-MML_SVG\"></script><script type=\"text/javascript\">if (window.MathJax) {MathJax.Hub.Config({SVG: {font: \"STIX-Web\"}});}</script>\n",
              "                <script type=\"text/javascript\">window.PlotlyConfig = {MathJaxConfig: 'local'};</script>\n",
              "        <script src=\"https://cdn.plot.ly/plotly-latest.min.js\"></script>    \n",
              "            <div id=\"106e96fa-4051-42ca-b8a4-bbca45269872\" class=\"plotly-graph-div\" style=\"height:525px; width:100%;\"></div>\n",
              "            <script type=\"text/javascript\">\n",
              "                \n",
              "                    window.PLOTLYENV=window.PLOTLYENV || {};\n",
              "                    \n",
              "                if (document.getElementById(\"106e96fa-4051-42ca-b8a4-bbca45269872\")) {\n",
              "                    Plotly.newPlot(\n",
              "                        '106e96fa-4051-42ca-b8a4-bbca45269872',\n",
              "                        [{\"cells\": {\"values\": [[\"Detected 1\", \"Detected 0\"], [75, 25], [88, 12]]}, \"header\": {\"values\": [\"\", \"Original 7\", \"Original 9\"]}, \"type\": \"table\"}],\n",
              "                        {\"template\": {\"data\": {\"bar\": [{\"error_x\": {\"color\": \"#2a3f5f\"}, \"error_y\": {\"color\": \"#2a3f5f\"}, \"marker\": {\"line\": {\"color\": \"#E5ECF6\", \"width\": 0.5}}, \"type\": \"bar\"}], \"barpolar\": [{\"marker\": {\"line\": {\"color\": \"#E5ECF6\", \"width\": 0.5}}, \"type\": \"barpolar\"}], \"carpet\": [{\"aaxis\": {\"endlinecolor\": \"#2a3f5f\", \"gridcolor\": \"white\", \"linecolor\": \"white\", \"minorgridcolor\": \"white\", \"startlinecolor\": \"#2a3f5f\"}, \"baxis\": {\"endlinecolor\": \"#2a3f5f\", \"gridcolor\": \"white\", \"linecolor\": \"white\", \"minorgridcolor\": \"white\", \"startlinecolor\": \"#2a3f5f\"}, \"type\": \"carpet\"}], \"choropleth\": [{\"colorbar\": {\"outlinewidth\": 0, \"ticks\": \"\"}, \"type\": \"choropleth\"}], \"contour\": [{\"colorbar\": {\"outlinewidth\": 0, \"ticks\": \"\"}, \"colorscale\": [[0.0, \"#0d0887\"], [0.1111111111111111, \"#46039f\"], [0.2222222222222222, \"#7201a8\"], [0.3333333333333333, \"#9c179e\"], [0.4444444444444444, \"#bd3786\"], [0.5555555555555556, \"#d8576b\"], [0.6666666666666666, \"#ed7953\"], [0.7777777777777778, \"#fb9f3a\"], [0.8888888888888888, \"#fdca26\"], [1.0, \"#f0f921\"]], \"type\": \"contour\"}], \"contourcarpet\": [{\"colorbar\": {\"outlinewidth\": 0, \"ticks\": \"\"}, \"type\": \"contourcarpet\"}], \"heatmap\": [{\"colorbar\": {\"outlinewidth\": 0, \"ticks\": \"\"}, \"colorscale\": [[0.0, \"#0d0887\"], [0.1111111111111111, \"#46039f\"], [0.2222222222222222, \"#7201a8\"], [0.3333333333333333, \"#9c179e\"], [0.4444444444444444, \"#bd3786\"], [0.5555555555555556, \"#d8576b\"], [0.6666666666666666, \"#ed7953\"], [0.7777777777777778, \"#fb9f3a\"], [0.8888888888888888, \"#fdca26\"], [1.0, \"#f0f921\"]], \"type\": \"heatmap\"}], \"heatmapgl\": [{\"colorbar\": {\"outlinewidth\": 0, \"ticks\": \"\"}, \"colorscale\": [[0.0, \"#0d0887\"], [0.1111111111111111, \"#46039f\"], [0.2222222222222222, \"#7201a8\"], [0.3333333333333333, \"#9c179e\"], [0.4444444444444444, \"#bd3786\"], [0.5555555555555556, \"#d8576b\"], [0.6666666666666666, \"#ed7953\"], [0.7777777777777778, \"#fb9f3a\"], [0.8888888888888888, \"#fdca26\"], [1.0, \"#f0f921\"]], \"type\": \"heatmapgl\"}], \"histogram\": [{\"marker\": {\"colorbar\": {\"outlinewidth\": 0, \"ticks\": \"\"}}, \"type\": \"histogram\"}], \"histogram2d\": [{\"colorbar\": {\"outlinewidth\": 0, \"ticks\": \"\"}, \"colorscale\": [[0.0, \"#0d0887\"], [0.1111111111111111, \"#46039f\"], [0.2222222222222222, \"#7201a8\"], [0.3333333333333333, \"#9c179e\"], [0.4444444444444444, \"#bd3786\"], [0.5555555555555556, \"#d8576b\"], [0.6666666666666666, \"#ed7953\"], [0.7777777777777778, \"#fb9f3a\"], [0.8888888888888888, \"#fdca26\"], [1.0, \"#f0f921\"]], \"type\": \"histogram2d\"}], \"histogram2dcontour\": [{\"colorbar\": {\"outlinewidth\": 0, \"ticks\": \"\"}, \"colorscale\": [[0.0, \"#0d0887\"], [0.1111111111111111, \"#46039f\"], [0.2222222222222222, \"#7201a8\"], [0.3333333333333333, \"#9c179e\"], [0.4444444444444444, \"#bd3786\"], [0.5555555555555556, \"#d8576b\"], [0.6666666666666666, \"#ed7953\"], [0.7777777777777778, \"#fb9f3a\"], [0.8888888888888888, \"#fdca26\"], [1.0, \"#f0f921\"]], \"type\": \"histogram2dcontour\"}], \"mesh3d\": [{\"colorbar\": {\"outlinewidth\": 0, \"ticks\": \"\"}, \"type\": \"mesh3d\"}], \"parcoords\": [{\"line\": {\"colorbar\": {\"outlinewidth\": 0, \"ticks\": \"\"}}, \"type\": \"parcoords\"}], \"pie\": [{\"automargin\": true, \"type\": \"pie\"}], \"scatter\": [{\"marker\": {\"colorbar\": {\"outlinewidth\": 0, \"ticks\": \"\"}}, \"type\": \"scatter\"}], \"scatter3d\": [{\"line\": {\"colorbar\": {\"outlinewidth\": 0, \"ticks\": \"\"}}, \"marker\": {\"colorbar\": {\"outlinewidth\": 0, \"ticks\": \"\"}}, \"type\": \"scatter3d\"}], \"scattercarpet\": [{\"marker\": {\"colorbar\": {\"outlinewidth\": 0, \"ticks\": \"\"}}, \"type\": \"scattercarpet\"}], \"scattergeo\": [{\"marker\": {\"colorbar\": {\"outlinewidth\": 0, \"ticks\": \"\"}}, \"type\": \"scattergeo\"}], \"scattergl\": [{\"marker\": {\"colorbar\": {\"outlinewidth\": 0, \"ticks\": \"\"}}, \"type\": \"scattergl\"}], \"scattermapbox\": [{\"marker\": {\"colorbar\": {\"outlinewidth\": 0, \"ticks\": \"\"}}, \"type\": \"scattermapbox\"}], \"scatterpolar\": [{\"marker\": {\"colorbar\": {\"outlinewidth\": 0, \"ticks\": \"\"}}, \"type\": \"scatterpolar\"}], \"scatterpolargl\": [{\"marker\": {\"colorbar\": {\"outlinewidth\": 0, \"ticks\": \"\"}}, \"type\": \"scatterpolargl\"}], \"scatterternary\": [{\"marker\": {\"colorbar\": {\"outlinewidth\": 0, \"ticks\": \"\"}}, \"type\": \"scatterternary\"}], \"surface\": [{\"colorbar\": {\"outlinewidth\": 0, \"ticks\": \"\"}, \"colorscale\": [[0.0, \"#0d0887\"], [0.1111111111111111, \"#46039f\"], [0.2222222222222222, \"#7201a8\"], [0.3333333333333333, \"#9c179e\"], [0.4444444444444444, \"#bd3786\"], [0.5555555555555556, \"#d8576b\"], [0.6666666666666666, \"#ed7953\"], [0.7777777777777778, \"#fb9f3a\"], [0.8888888888888888, \"#fdca26\"], [1.0, \"#f0f921\"]], \"type\": \"surface\"}], \"table\": [{\"cells\": {\"fill\": {\"color\": \"#EBF0F8\"}, \"line\": {\"color\": \"white\"}}, \"header\": {\"fill\": {\"color\": \"#C8D4E3\"}, \"line\": {\"color\": \"white\"}}, \"type\": \"table\"}]}, \"layout\": {\"annotationdefaults\": {\"arrowcolor\": \"#2a3f5f\", \"arrowhead\": 0, \"arrowwidth\": 1}, \"coloraxis\": {\"colorbar\": {\"outlinewidth\": 0, \"ticks\": \"\"}}, \"colorscale\": {\"diverging\": [[0, \"#8e0152\"], [0.1, \"#c51b7d\"], [0.2, \"#de77ae\"], [0.3, \"#f1b6da\"], [0.4, \"#fde0ef\"], [0.5, \"#f7f7f7\"], [0.6, \"#e6f5d0\"], [0.7, \"#b8e186\"], [0.8, \"#7fbc41\"], [0.9, \"#4d9221\"], [1, \"#276419\"]], \"sequential\": [[0.0, \"#0d0887\"], [0.1111111111111111, \"#46039f\"], [0.2222222222222222, \"#7201a8\"], [0.3333333333333333, \"#9c179e\"], [0.4444444444444444, \"#bd3786\"], [0.5555555555555556, \"#d8576b\"], [0.6666666666666666, \"#ed7953\"], [0.7777777777777778, \"#fb9f3a\"], [0.8888888888888888, \"#fdca26\"], [1.0, \"#f0f921\"]], \"sequentialminus\": [[0.0, \"#0d0887\"], [0.1111111111111111, \"#46039f\"], [0.2222222222222222, \"#7201a8\"], [0.3333333333333333, \"#9c179e\"], [0.4444444444444444, \"#bd3786\"], [0.5555555555555556, \"#d8576b\"], [0.6666666666666666, \"#ed7953\"], [0.7777777777777778, \"#fb9f3a\"], [0.8888888888888888, \"#fdca26\"], [1.0, \"#f0f921\"]]}, \"colorway\": [\"#636efa\", \"#EF553B\", \"#00cc96\", \"#ab63fa\", \"#FFA15A\", \"#19d3f3\", \"#FF6692\", \"#B6E880\", \"#FF97FF\", \"#FECB52\"], \"font\": {\"color\": \"#2a3f5f\"}, \"geo\": {\"bgcolor\": \"white\", \"lakecolor\": \"white\", \"landcolor\": \"#E5ECF6\", \"showlakes\": true, \"showland\": true, \"subunitcolor\": \"white\"}, \"hoverlabel\": {\"align\": \"left\"}, \"hovermode\": \"closest\", \"mapbox\": {\"style\": \"light\"}, \"paper_bgcolor\": \"white\", \"plot_bgcolor\": \"#E5ECF6\", \"polar\": {\"angularaxis\": {\"gridcolor\": \"white\", \"linecolor\": \"white\", \"ticks\": \"\"}, \"bgcolor\": \"#E5ECF6\", \"radialaxis\": {\"gridcolor\": \"white\", \"linecolor\": \"white\", \"ticks\": \"\"}}, \"scene\": {\"xaxis\": {\"backgroundcolor\": \"#E5ECF6\", \"gridcolor\": \"white\", \"gridwidth\": 2, \"linecolor\": \"white\", \"showbackground\": true, \"ticks\": \"\", \"zerolinecolor\": \"white\"}, \"yaxis\": {\"backgroundcolor\": \"#E5ECF6\", \"gridcolor\": \"white\", \"gridwidth\": 2, \"linecolor\": \"white\", \"showbackground\": true, \"ticks\": \"\", \"zerolinecolor\": \"white\"}, \"zaxis\": {\"backgroundcolor\": \"#E5ECF6\", \"gridcolor\": \"white\", \"gridwidth\": 2, \"linecolor\": \"white\", \"showbackground\": true, \"ticks\": \"\", \"zerolinecolor\": \"white\"}}, \"shapedefaults\": {\"line\": {\"color\": \"#2a3f5f\"}}, \"ternary\": {\"aaxis\": {\"gridcolor\": \"white\", \"linecolor\": \"white\", \"ticks\": \"\"}, \"baxis\": {\"gridcolor\": \"white\", \"linecolor\": \"white\", \"ticks\": \"\"}, \"bgcolor\": \"#E5ECF6\", \"caxis\": {\"gridcolor\": \"white\", \"linecolor\": \"white\", \"ticks\": \"\"}}, \"title\": {\"x\": 0.05}, \"xaxis\": {\"automargin\": true, \"gridcolor\": \"white\", \"linecolor\": \"white\", \"ticks\": \"\", \"title\": {\"standoff\": 15}, \"zerolinecolor\": \"white\", \"zerolinewidth\": 2}, \"yaxis\": {\"automargin\": true, \"gridcolor\": \"white\", \"linecolor\": \"white\", \"ticks\": \"\", \"title\": {\"standoff\": 15}, \"zerolinecolor\": \"white\", \"zerolinewidth\": 2}}}},\n",
              "                        {\"responsive\": true}\n",
              "                    ).then(function(){\n",
              "                            \n",
              "var gd = document.getElementById('106e96fa-4051-42ca-b8a4-bbca45269872');\n",
              "var x = new MutationObserver(function (mutations, observer) {{\n",
              "        var display = window.getComputedStyle(gd).display;\n",
              "        if (!display || display === 'none') {{\n",
              "            console.log([gd, 'removed!']);\n",
              "            Plotly.purge(gd);\n",
              "            observer.disconnect();\n",
              "        }}\n",
              "}});\n",
              "\n",
              "// Listen for the removal of the full notebook cells\n",
              "var notebookContainer = gd.closest('#notebook-container');\n",
              "if (notebookContainer) {{\n",
              "    x.observe(notebookContainer, {childList: true});\n",
              "}}\n",
              "\n",
              "// Listen for the clearing of the current output cell\n",
              "var outputEl = gd.closest('.output');\n",
              "if (outputEl) {{\n",
              "    x.observe(outputEl, {childList: true});\n",
              "}}\n",
              "\n",
              "                        })\n",
              "                };\n",
              "                \n",
              "            </script>\n",
              "        </div>\n",
              "</body>\n",
              "</html>"
            ]
          },
          "metadata": {}
        }
      ]
    }
  ]
}